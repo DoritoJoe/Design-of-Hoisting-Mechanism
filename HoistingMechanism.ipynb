{
 "metadata": {
  "language_info": {
   "codemirror_mode": {
    "name": "ipython",
    "version": 3
   },
   "file_extension": ".py",
   "mimetype": "text/x-python",
   "name": "python",
   "nbconvert_exporter": "python",
   "pygments_lexer": "ipython3",
   "version": "3.9.0-final"
  },
  "orig_nbformat": 2,
  "kernelspec": {
   "name": "Python 3.9.0 64-bit",
   "display_name": "Python 3.9.0 64-bit",
   "metadata": {
    "interpreter": {
     "hash": "d4520ac90ce75c6ff25abfed5dde9b9c6adb94cac5771a65e765be127475d1d2"
    }
   }
  }
 },
 "nbformat": 4,
 "nbformat_minor": 2,
 "cells": [
  {
   "source": [
    "# Design of Hoisting Mechanism  "
   ],
   "cell_type": "code",
   "metadata": {},
   "execution_count": 3,
   "outputs": []
  },
  {
   "cell_type": "code",
   "execution_count": 34,
   "metadata": {},
   "outputs": [],
   "source": [
    "# input\n",
    "import math\n",
    "left_load = int(input(\"What is the allowable lifting load in KN? \"))"
   ]
  },
  {
   "cell_type": "code",
   "execution_count": 19,
   "metadata": {},
   "outputs": [
    {
     "output_type": "stream",
     "name": "stdout",
     "text": [
      "The number of falls and bends are always selected as standard 4 and 3 respectively\n"
     ]
    }
   ],
   "source": [
    "# Selection of number of falls in the syestem\n",
    "# Always selecting 4 fall system and bends be 3\n",
    "falls = 4\n",
    "bends = 3\n",
    "print(\"The number of falls and bends are always selected as standard {} and {} respectively\".format(falls, bends))"
   ]
  },
  {
   "cell_type": "code",
   "execution_count": 30,
   "metadata": {},
   "outputs": [
    {
     "output_type": "stream",
     "name": "stdout",
     "text": [
      "Your selected Rope type is flexible\nSelecting 6 x 37 rope\nWe always select Crossed lay type Rope\nWe always select Improved Plaw Steel for Rope with Ultimate Tensile Strenght as 1800 N/mm**2\n"
     ]
    }
   ],
   "source": [
    "# Selection of Rope\n",
    "rope_char = input(\"Flexible, RIgid or Hybird? \").lower()\n",
    "print(\"Your selected Rope type is {}\".format(rope_char))\n",
    "\n",
    "if rope_char == 'flexible':\n",
    "    rope_type = '6 x 37'\n",
    "elif rope_char == 'rigid':\n",
    "    rope_type == '6 x 7'\n",
    "else:\n",
    "    rope_type = '6 x 19'\n",
    "\n",
    "print(\"Selecting {} rope\".format(rope_type))\n",
    "\n",
    "# We select crossed lay type always\n",
    "\n",
    "print(\"We always select Crossed lay type Rope\")\n",
    "\n",
    "# We always select Material of the rope as Imroved Plaw Steel(IPS) with Ultimate Tensile Strenght as 1800 N/mm**2\n",
    "\n",
    "print(\"We always select Improved Plaw Steel for Rope with Ultimate Tensile Strenght as 1800 N/mm**2\")\n",
    "uts_rope = 1800\n"
   ]
  },
  {
   "cell_type": "code",
   "execution_count": 21,
   "metadata": {},
   "outputs": [
    {
     "output_type": "stream",
     "name": "stdout",
     "text": [
      "26.315789473684212\n"
     ]
    }
   ],
   "source": [
    "# Max tension in Rope\n",
    "\n",
    "pulley_eff = 0.95\n",
    "\n",
    "T_max = left_load / (falls * pulley_eff)\n",
    "\n",
    "print(T_max)"
   ]
  },
  {
   "cell_type": "code",
   "execution_count": 32,
   "metadata": {},
   "outputs": [
    {
     "output_type": "stream",
     "name": "stdout",
     "text": [
      "183.41307814992027\n"
     ]
    }
   ],
   "source": [
    "# Rope Selection\n",
    "app_type = input(\"What is the crane being used for? \\nLabour \\nHoist \\nFlexible_Crane\").lower()\n",
    "mechanical_class = int(input(\"What type of Application is it? \\nClass 1 \\nClass 2 \\nClass 3 \\nClass 4\"))\n",
    "if mechanical_class == 1:\n",
    "    duty = 1\n",
    "    if app_type == \"labour\":\n",
    "        FOS = 3.5\n",
    "    elif app_type == \"hoist\":\n",
    "        FOS = 4.0\n",
    "    elif app_type == 'flexible_crane':\n",
    "        FOS = 4.5\n",
    "\n",
    "elif mechanical_class == 2:\n",
    "    duty = 1.2\n",
    "    if app_type == \"labour\":\n",
    "        FOS = 4.0\n",
    "    elif app_type == 'hoist':\n",
    "        FOS = 4.5\n",
    "    elif app_type == 'flexible_crane':\n",
    "        FOS = 5.0\n",
    "\n",
    "elif mechanical_class == 3:\n",
    "    duty = 1.4\n",
    "    if app_type == \"labour\":\n",
    "        FOS = 4.0\n",
    "    elif app_type == 'hoist':\n",
    "        FOS = 4.5\n",
    "    elif app_type == 'flexible_crane':\n",
    "        FOS = 5.0\n",
    "\n",
    "else:\n",
    "    duty = 1.6\n",
    "    if app_type == \"labour\":\n",
    "        FOS = 4.5\n",
    "    elif app_type == 'hoist':\n",
    "        FOS = 5.5\n",
    "    elif app_type == 'flexible_crane':\n",
    "        FOS = 6.0\n",
    "\n",
    "Stress_fact = FOS * duty\n",
    "\n",
    "if rope_type == \"6 x 37\":\n",
    "    Rope_area = (T_max * 1000) / ((uts_rope/Stress_fact) - (3600/23))\n",
    "elif rope_type == \"6 x 19\":\n",
    "    Rope_area = (T_max * 1000) / ((uts_rope/Stress_fact) - (5000/23))\n",
    "else:\n",
    "    print(\"Dont know the area formula for 6 * 7\")\n"
   ]
  },
  {
   "cell_type": "code",
   "execution_count": 44,
   "metadata": {},
   "outputs": [
    {
     "output_type": "stream",
     "name": "stdout",
     "text": [
      "The Rope Dia is 25\n"
     ]
    }
   ],
   "source": [
    "Standard_Rope_Sizes = [10, 12, 14, 16, 18, 20, 22, 24, 25, 29, 32, 38, 41, 44, 48, 51, 54, 57, 64, 70]\n",
    "rope_dia = math.sqrt((4 * Rope_area) / (0.4 * 3.14))\n",
    "for dia in Standard_Rope_Sizes:\n",
    "    if rope_dia <= dia:\n",
    "        print(\"The Rope Diameter is {}\".format(dia))\n",
    "        break"
   ]
  },
  {
   "cell_type": "code",
   "execution_count": null,
   "metadata": {},
   "outputs": [],
   "source": []
  }
 ]
}